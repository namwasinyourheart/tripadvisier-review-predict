{
 "cells": [
  {
   "cell_type": "code",
   "execution_count": 67,
   "id": "2e4a7b74",
   "metadata": {},
   "outputs": [],
   "source": [
    "import pandas as pd\n",
    "import numpy as np\n",
    "from sklearn import preprocessing\n",
    "from sklearn.preprocessing import StandardScaler, OrdinalEncoder, LabelEncoder\n",
    "import matplotlib.pyplot as plt\n",
    "import seaborn as sns\n",
    "import warnings\n",
    "warnings.filterwarnings('ignore')\n",
    "%matplotlib inline\n",
    "from sklearn.preprocessing import StandardScaler, MinMaxScaler, OrdinalEncoder\n",
    "from sklearn.compose import make_column_transformer\n",
    "from sklearn.model_selection import train_test_split\n",
    "from sklearn.feature_selection import RFE\n",
    "from sklearn.tree import DecisionTreeClassifier\n",
    "from sklearn.ensemble import RandomForestClassifier\n",
    "from sklearn.svm import LinearSVC\n",
    "from sklearn.pipeline import Pipeline\n",
    "from sklearn.feature_selection import SelectFromModel\n",
    "from sklearn.linear_model import Ridge\n",
    "from sklearn.feature_selection import RFECV\n",
    "from sklearn.model_selection import StratifiedKFold\n",
    "from sklearn.tree import DecisionTreeRegressor\n",
    "from sklearn.metrics import mean_squared_error\n",
    "from sklearn.preprocessing import StandardScaler, OrdinalEncoder, LabelEncoder\n",
    "from sklearn.linear_model import LogisticRegression\n",
    "from sklearn.metrics import classification_report, confusion_matrix\n",
    "from sklearn.linear_model import LogisticRegression\n",
    "from sklearn.metrics import accuracy_score, confusion_matrix, classification_report, roc_auc_score"
   ]
  },
  {
   "cell_type": "code",
   "execution_count": 55,
   "id": "e3b0e171",
   "metadata": {},
   "outputs": [
    {
     "name": "stdout",
     "output_type": "stream",
     "text": [
      "(504, 19)\n"
     ]
    }
   ],
   "source": [
    "df= pd.read_csv(\"LasVegasTripAdvisorReviews-Dataset.csv\", sep=';')\n",
    "df = df.drop(['User country'], axis=1)\n",
    "\n",
    "print(df.shape)"
   ]
  },
  {
   "cell_type": "code",
   "execution_count": 56,
   "id": "f927000a",
   "metadata": {},
   "outputs": [
    {
     "name": "stdout",
     "output_type": "stream",
     "text": [
      "['winter' 'spring' 'summer' 'autumn']\n",
      "['Friends' 'Business' 'Families' 'Solo' 'Couples']\n",
      "['NO' 'YES']\n",
      "['YES' 'NO']\n",
      "['NO' 'YES']\n",
      "['NO' 'YES']\n",
      "['YES' 'NO']\n",
      "['YES' 'NO']\n",
      "['Circus Circus Hotel & Casino Las Vegas' 'Excalibur Hotel & Casino'\n",
      " 'Monte Carlo Resort&Casino' 'Treasure Island- TI Hotel & Casino'\n",
      " 'Tropicana Las Vegas - A Double Tree by Hilton Hotel' 'Caesars Palace'\n",
      " 'The Cosmopolitan Las Vegas' 'The Palazzo Resort Hotel Casino'\n",
      " 'Wynn Las Vegas' 'Trump International Hotel Las Vegas' 'The Cromwell'\n",
      " 'Encore at wynn Las Vegas' 'Hilton Grand Vacations on the Boulevard'\n",
      " \"Marriott's Grand Chateau\" 'Tuscany Las Vegas Suites & Casino'\n",
      " 'Hilton Grand Vacations at the Flamingo' 'Wyndham Grand Desert'\n",
      " 'The Venetian Las Vegas Hotel' 'Bellagio Las Vegas' 'Paris Las Vegas'\n",
      " 'The Westin las Vegas Hotel Casino & Spa']\n",
      "['3' '4' '5' '4,5' '3,5']\n",
      "['North America' 'Europe' 'Asia' 'Oceania' 'Africa' 'South America']\n",
      "['January' 'February' 'March' 'April' 'May' 'June' 'July' 'August'\n",
      " 'September' 'October' 'November' 'December']\n",
      "['Thursday' 'Friday' 'Saturday' 'Tuesday' 'Wednesday' 'Sunday' 'Monday']\n"
     ]
    }
   ],
   "source": [
    "categorical = list(df.select_dtypes(include=['object']).columns.values)\n",
    "le = preprocessing.LabelEncoder()\n",
    "# seasons in place of months\n",
    "['Dec-Feb' 'Mar-May' 'Jun-Aug' 'Sep-Nov']\n",
    "df['Period of stay'] = df['Period of stay'].map({'Dec-Feb':'winter', 'Mar-May':'spring', 'Jun-Aug' :'summer','Sep-Nov':'autumn'})\n",
    "\n",
    "for i in range(0, len(categorical)):\n",
    "  #  df[categorical[i]] = le.fit_transform(df[categorical[i]])\n",
    "    print(df[categorical[i]].unique())"
   ]
  },
  {
   "cell_type": "code",
   "execution_count": 57,
   "id": "37f97b3d",
   "metadata": {},
   "outputs": [
    {
     "data": {
      "text/html": [
       "<div>\n",
       "<style scoped>\n",
       "    .dataframe tbody tr th:only-of-type {\n",
       "        vertical-align: middle;\n",
       "    }\n",
       "\n",
       "    .dataframe tbody tr th {\n",
       "        vertical-align: top;\n",
       "    }\n",
       "\n",
       "    .dataframe thead th {\n",
       "        text-align: right;\n",
       "    }\n",
       "</style>\n",
       "<table border=\"1\" class=\"dataframe\">\n",
       "  <thead>\n",
       "    <tr style=\"text-align: right;\">\n",
       "      <th></th>\n",
       "      <th>Nr. reviews</th>\n",
       "      <th>Nr. hotel reviews</th>\n",
       "      <th>Helpful votes</th>\n",
       "      <th>Score</th>\n",
       "      <th>Period of stay</th>\n",
       "      <th>Traveler type</th>\n",
       "      <th>Pool</th>\n",
       "      <th>Gym</th>\n",
       "      <th>Tennis court</th>\n",
       "      <th>Spa</th>\n",
       "      <th>Casino</th>\n",
       "      <th>Free internet</th>\n",
       "      <th>Hotel name</th>\n",
       "      <th>Hotel stars</th>\n",
       "      <th>Nr. rooms</th>\n",
       "      <th>User continent</th>\n",
       "      <th>Member years</th>\n",
       "      <th>Review month</th>\n",
       "      <th>Review weekday</th>\n",
       "    </tr>\n",
       "  </thead>\n",
       "  <tbody>\n",
       "    <tr>\n",
       "      <th>0</th>\n",
       "      <td>11</td>\n",
       "      <td>4</td>\n",
       "      <td>13</td>\n",
       "      <td>5</td>\n",
       "      <td>3</td>\n",
       "      <td>3</td>\n",
       "      <td>0</td>\n",
       "      <td>1</td>\n",
       "      <td>0</td>\n",
       "      <td>0</td>\n",
       "      <td>1</td>\n",
       "      <td>1</td>\n",
       "      <td>2</td>\n",
       "      <td>0</td>\n",
       "      <td>3773</td>\n",
       "      <td>3</td>\n",
       "      <td>9</td>\n",
       "      <td>4</td>\n",
       "      <td>4</td>\n",
       "    </tr>\n",
       "    <tr>\n",
       "      <th>1</th>\n",
       "      <td>119</td>\n",
       "      <td>21</td>\n",
       "      <td>75</td>\n",
       "      <td>3</td>\n",
       "      <td>3</td>\n",
       "      <td>0</td>\n",
       "      <td>0</td>\n",
       "      <td>1</td>\n",
       "      <td>0</td>\n",
       "      <td>0</td>\n",
       "      <td>1</td>\n",
       "      <td>1</td>\n",
       "      <td>2</td>\n",
       "      <td>0</td>\n",
       "      <td>3773</td>\n",
       "      <td>3</td>\n",
       "      <td>3</td>\n",
       "      <td>4</td>\n",
       "      <td>0</td>\n",
       "    </tr>\n",
       "    <tr>\n",
       "      <th>2</th>\n",
       "      <td>36</td>\n",
       "      <td>9</td>\n",
       "      <td>25</td>\n",
       "      <td>5</td>\n",
       "      <td>1</td>\n",
       "      <td>2</td>\n",
       "      <td>0</td>\n",
       "      <td>1</td>\n",
       "      <td>0</td>\n",
       "      <td>0</td>\n",
       "      <td>1</td>\n",
       "      <td>1</td>\n",
       "      <td>2</td>\n",
       "      <td>0</td>\n",
       "      <td>3773</td>\n",
       "      <td>3</td>\n",
       "      <td>2</td>\n",
       "      <td>3</td>\n",
       "      <td>2</td>\n",
       "    </tr>\n",
       "    <tr>\n",
       "      <th>3</th>\n",
       "      <td>14</td>\n",
       "      <td>7</td>\n",
       "      <td>14</td>\n",
       "      <td>4</td>\n",
       "      <td>1</td>\n",
       "      <td>3</td>\n",
       "      <td>0</td>\n",
       "      <td>1</td>\n",
       "      <td>0</td>\n",
       "      <td>0</td>\n",
       "      <td>1</td>\n",
       "      <td>1</td>\n",
       "      <td>2</td>\n",
       "      <td>0</td>\n",
       "      <td>3773</td>\n",
       "      <td>2</td>\n",
       "      <td>6</td>\n",
       "      <td>3</td>\n",
       "      <td>0</td>\n",
       "    </tr>\n",
       "    <tr>\n",
       "      <th>4</th>\n",
       "      <td>5</td>\n",
       "      <td>5</td>\n",
       "      <td>2</td>\n",
       "      <td>4</td>\n",
       "      <td>1</td>\n",
       "      <td>4</td>\n",
       "      <td>0</td>\n",
       "      <td>1</td>\n",
       "      <td>0</td>\n",
       "      <td>0</td>\n",
       "      <td>1</td>\n",
       "      <td>1</td>\n",
       "      <td>2</td>\n",
       "      <td>0</td>\n",
       "      <td>3773</td>\n",
       "      <td>3</td>\n",
       "      <td>7</td>\n",
       "      <td>7</td>\n",
       "      <td>5</td>\n",
       "    </tr>\n",
       "  </tbody>\n",
       "</table>\n",
       "</div>"
      ],
      "text/plain": [
       "   Nr. reviews  Nr. hotel reviews  Helpful votes  Score  Period of stay  \\\n",
       "0           11                  4             13      5               3   \n",
       "1          119                 21             75      3               3   \n",
       "2           36                  9             25      5               1   \n",
       "3           14                  7             14      4               1   \n",
       "4            5                  5              2      4               1   \n",
       "\n",
       "   Traveler type  Pool  Gym  Tennis court  Spa  Casino  Free internet  \\\n",
       "0              3     0    1             0    0       1              1   \n",
       "1              0     0    1             0    0       1              1   \n",
       "2              2     0    1             0    0       1              1   \n",
       "3              3     0    1             0    0       1              1   \n",
       "4              4     0    1             0    0       1              1   \n",
       "\n",
       "   Hotel name  Hotel stars  Nr. rooms  User continent  Member years  \\\n",
       "0           2            0       3773               3             9   \n",
       "1           2            0       3773               3             3   \n",
       "2           2            0       3773               3             2   \n",
       "3           2            0       3773               2             6   \n",
       "4           2            0       3773               3             7   \n",
       "\n",
       "   Review month  Review weekday  \n",
       "0             4               4  \n",
       "1             4               0  \n",
       "2             3               2  \n",
       "3             3               0  \n",
       "4             7               5  "
      ]
     },
     "execution_count": 57,
     "metadata": {},
     "output_type": "execute_result"
    }
   ],
   "source": [
    "for i in range(0, len(categorical)):\n",
    "    df[categorical[i]] = le.fit_transform(df[categorical[i]])\n",
    "df.head()"
   ]
  },
  {
   "cell_type": "code",
   "execution_count": 58,
   "id": "70bd2949",
   "metadata": {},
   "outputs": [],
   "source": [
    "# fill biến không hợp lệ bằng median\n",
    "df.loc[df[df['Member years']<0].index, 'Member years']= np.NaN\n",
    "df['Member years'].fillna(df['Member years'].median(), inplace=True)"
   ]
  },
  {
   "cell_type": "code",
   "execution_count": 60,
   "id": "98d5bae8",
   "metadata": {
    "scrolled": false
   },
   "outputs": [],
   "source": [
    "X = df.drop('Score', axis=1)\n",
    "y = df['Score']"
   ]
  },
  {
   "cell_type": "code",
   "execution_count": 61,
   "id": "bf4992a2",
   "metadata": {},
   "outputs": [
    {
     "data": {
      "text/plain": [
       "5    227\n",
       "4    164\n",
       "3     72\n",
       "2     30\n",
       "1     11\n",
       "Name: Score, dtype: int64"
      ]
     },
     "execution_count": 61,
     "metadata": {},
     "output_type": "execute_result"
    }
   ],
   "source": [
    "df['Score'].value_counts()"
   ]
  },
  {
   "cell_type": "code",
   "execution_count": 83,
   "id": "56bfa9f0",
   "metadata": {},
   "outputs": [],
   "source": [
    "## prepare train and test labels\n",
    "from sklearn.model_selection import train_test_split\n",
    "X = df.drop(['Score'], axis=1)\n",
    "y = df['Score']\n",
    "X_train, X_test, y_train, y_test = train_test_split(X, y, test_size=0.3, random_state=42, stratify = df['Score'])"
   ]
  },
  {
   "cell_type": "markdown",
   "id": "ec48902e",
   "metadata": {},
   "source": [
    "### Run model"
   ]
  },
  {
   "cell_type": "code",
   "execution_count": 78,
   "id": "78a5da00",
   "metadata": {},
   "outputs": [],
   "source": [
    "from sklearn.model_selection import cross_val_score\n",
    "def print_score(clf, X_train, y_train, X_test, y_test, train=True):\n",
    "    if train:\n",
    "        pred = clf.predict(X_train)\n",
    "        clf_report = pd.DataFrame(classification_report(y_train, pred, output_dict=True))\n",
    "        print(\"Train Result:\\n================================================\")\n",
    "        print(f\"Accuracy Score: {accuracy_score(y_train, pred) * 100:.2f}%\")\n",
    "        print(\"_______________________________________________\")\n",
    "        print(f\"CLASSIFICATION REPORT:\\n{clf_report}\")\n",
    "        print(\"_______________________________________________\")\n",
    "        print(f\"Confusion Matrix: \\n {confusion_matrix(y_train, pred)}\\n\")\n",
    "        print(\"_______________________________________________\")\n",
    "        scores = cross_val_score(clf, X, y, cv=10, scoring='accuracy')\n",
    "        print(\"Accuracy: %0.2f (+/- %0.2f)\" % (scores.mean(), scores.std() * 2))\n"
   ]
  },
  {
   "cell_type": "code",
   "execution_count": 79,
   "id": "6cf359b5",
   "metadata": {},
   "outputs": [
    {
     "name": "stdout",
     "output_type": "stream",
     "text": [
      "Train Result:\n",
      "================================================\n",
      "Accuracy Score: 54.50%\n",
      "_______________________________________________\n",
      "CLASSIFICATION REPORT:\n",
      "                  1          2          3           4           5  accuracy  \\\n",
      "precision  0.285714   0.500000   0.800000    0.539683    0.544828  0.544974   \n",
      "recall     0.250000   0.173913   0.148148    0.276423    0.929412  0.544974   \n",
      "f1-score   0.266667   0.258065   0.250000    0.365591    0.686957  0.544974   \n",
      "support    8.000000  23.000000  54.000000  123.000000  170.000000  0.544974   \n",
      "\n",
      "            macro avg  weighted avg  \n",
      "precision    0.534045      0.571395  \n",
      "recall       0.355579      0.544974  \n",
      "f1-score     0.365456      0.484971  \n",
      "support    378.000000    378.000000  \n",
      "_______________________________________________\n",
      "Confusion Matrix: \n",
      " [[  2   0   2   1   3]\n",
      " [  1   4   0   3  15]\n",
      " [  0   2   8  15  29]\n",
      " [  2   2   0  34  85]\n",
      " [  2   0   0  10 158]]\n",
      "\n",
      "_______________________________________________\n",
      "Accuracy: 0.37 (+/- 0.22)\n"
     ]
    }
   ],
   "source": [
    "from sklearn.tree import DecisionTreeClassifier\n",
    "\n",
    "dt_clf = DecisionTreeClassifier(criterion='entropy', \n",
    "                                 max_depth=4, \n",
    "                                 random_state=42)\n",
    "dt_clf.fit(X_train, y_train)\n",
    "print_score(dt_clf, X_train, y_train, X_test, y_test, train=True)\n",
    "print_score(dt_clf, X_train, y_train, X_test, y_test, train=False)"
   ]
  },
  {
   "cell_type": "code",
   "execution_count": 81,
   "id": "ccd8e508",
   "metadata": {},
   "outputs": [
    {
     "name": "stdout",
     "output_type": "stream",
     "text": [
      "Train Result:\n",
      "================================================\n",
      "Accuracy Score: 44.97%\n",
      "_______________________________________________\n",
      "CLASSIFICATION REPORT:\n",
      "             1     2     3      4           5  accuracy   macro avg  \\\n",
      "precision  0.0   0.0   0.0    0.0    0.449735  0.449735    0.089947   \n",
      "recall     0.0   0.0   0.0    0.0    1.000000  0.449735    0.200000   \n",
      "f1-score   0.0   0.0   0.0    0.0    0.620438  0.449735    0.124088   \n",
      "support    8.0  23.0  54.0  123.0  170.000000  0.449735  378.000000   \n",
      "\n",
      "           weighted avg  \n",
      "precision      0.202262  \n",
      "recall         0.449735  \n",
      "f1-score       0.279033  \n",
      "support      378.000000  \n",
      "_______________________________________________\n",
      "Confusion Matrix: \n",
      " [[  0   0   0   0   8]\n",
      " [  0   0   0   0  23]\n",
      " [  0   0   0   0  54]\n",
      " [  0   0   0   0 123]\n",
      " [  0   0   0   0 170]]\n",
      "\n",
      "_______________________________________________\n",
      "Accuracy: 0.45 (+/- 0.02)\n"
     ]
    }
   ],
   "source": [
    "from sklearn.naive_bayes import GaussianNB\n",
    "nb =  GaussianNB(var_smoothing=0.9)\n",
    "nb.fit(X_train, y_train)\n",
    "print_score(nb, X_train, y_train, X_test, y_test, train=True)\n",
    "print_score(nb, X_train, y_train, X_test, y_test, train=False)"
   ]
  },
  {
   "cell_type": "code",
   "execution_count": 82,
   "id": "1e6a0473",
   "metadata": {},
   "outputs": [
    {
     "name": "stdout",
     "output_type": "stream",
     "text": [
      "MAE: 0.7374\n",
      "MSE: 0.8565\n",
      "R2 Score: 0.1534\n"
     ]
    }
   ],
   "source": [
    "from sklearn.linear_model import LinearRegression\n",
    "from sklearn.metrics import mean_absolute_error, mean_squared_error, r2_score\n",
    "\n",
    "lr_clf = LinearRegression()\n",
    "lr_clf.fit(X_train, y_train)\n",
    "y_pred = lr_clf.predict(X_train)\n",
    "mae = mean_absolute_error(y_train, y_pred)\n",
    "mse = mean_squared_error(y_train, y_pred)\n",
    "r2 = r2_score(y_train, y_pred)\n",
    "# print results\n",
    "print(f\"MAE: {mae:.4f}\")\n",
    "print(f\"MSE: {mse:.4f}\")\n",
    "print(f\"R2 Score: {r2:.4f}\")\n"
   ]
  },
  {
   "cell_type": "code",
   "execution_count": null,
   "id": "f9df1331",
   "metadata": {},
   "outputs": [],
   "source": []
  },
  {
   "cell_type": "code",
   "execution_count": null,
   "id": "1f6e20b5",
   "metadata": {},
   "outputs": [],
   "source": []
  },
  {
   "cell_type": "code",
   "execution_count": null,
   "id": "5739fff0",
   "metadata": {},
   "outputs": [],
   "source": []
  }
 ],
 "metadata": {
  "kernelspec": {
   "display_name": "Python 3 (ipykernel)",
   "language": "python",
   "name": "python3"
  },
  "language_info": {
   "codemirror_mode": {
    "name": "ipython",
    "version": 3
   },
   "file_extension": ".py",
   "mimetype": "text/x-python",
   "name": "python",
   "nbconvert_exporter": "python",
   "pygments_lexer": "ipython3",
   "version": "3.8.10"
  }
 },
 "nbformat": 4,
 "nbformat_minor": 5
}
